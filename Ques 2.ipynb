{
 "cells": [
  {
   "cell_type": "markdown",
   "id": "f79accb0",
   "metadata": {},
   "source": [
    "### Write a Python program that accepts a word from the user and reverse it.\n",
    "> Sample Test Case\n",
    ">> Input : Edyoda\n",
    "\n",
    ">> Output: adoydE\n",
    "##### Using:\n",
    "    - For loop or while loop\n",
    "    - Must take input from user\n",
    "    - Must print the reverse of the word"
   ]
  },
  {
   "cell_type": "code",
   "execution_count": 21,
   "id": "44a14c4e",
   "metadata": {},
   "outputs": [
    {
     "name": "stdout",
     "output_type": "stream",
     "text": [
      "Here is the input - Edyoda\n",
      "Reverse order -  adoydE\n"
     ]
    }
   ],
   "source": [
    "val = input(\"Here is the input - \")\n",
    "for i in val:\n",
    "    v = val[-1::-1]\n",
    "print(\"Reverse order - \", v)"
   ]
  }
 ],
 "metadata": {
  "kernelspec": {
   "display_name": "Python 3 (ipykernel)",
   "language": "python",
   "name": "python3"
  },
  "language_info": {
   "codemirror_mode": {
    "name": "ipython",
    "version": 3
   },
   "file_extension": ".py",
   "mimetype": "text/x-python",
   "name": "python",
   "nbconvert_exporter": "python",
   "pygments_lexer": "ipython3",
   "version": "3.10.1"
  }
 },
 "nbformat": 4,
 "nbformat_minor": 5
}
