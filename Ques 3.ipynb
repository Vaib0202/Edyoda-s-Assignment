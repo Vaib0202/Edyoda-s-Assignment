{
 "cells": [
  {
   "cell_type": "markdown",
   "id": "e7cd3af5",
   "metadata": {},
   "source": [
    "### Write a Python program to count the number of even and odd numbers from a series of numbers.\n",
    "> Sample numbers : numbers = (1, 2, 3, 4, 5, 6, 7, 8, 9)\n",
    ">> Expected Output :\n",
    ">>> Number of even numbers : 4\n",
    "\n",
    ">>> Number of odd numbers : 5\n",
    "##### Using:\n",
    "    - For loop or while loop\n",
    "    - Must take input from the user\n",
    "    - Must print Even numbers\n",
    "    - Must print Odd numbers"
   ]
  },
  {
   "cell_type": "code",
   "execution_count": 4,
   "id": "a090b8b7",
   "metadata": {},
   "outputs": [
    {
     "name": "stdout",
     "output_type": "stream",
     "text": [
      "Enter the Range : 10\n",
      "1\n",
      "2\n",
      "3\n",
      "4\n",
      "5\n",
      "6\n",
      "7\n",
      "8\n",
      "9\n",
      "Even count numbers in series is 4\n",
      "Odd count numbers in series is 5\n"
     ]
    }
   ],
   "source": [
    "n = int(input(\"Enter the Range : \"))\n",
    "even = odd = 0\n",
    "for i in range(1,n):\n",
    "    print(i)\n",
    "    if i%2==0:\n",
    "        even+=1 \n",
    "    elif i%2!=0:\n",
    "        odd+=1\n",
    "print('Even count numbers in series is',even)\n",
    "print('Odd count numbers in series is',odd)"
   ]
  },
  {
   "cell_type": "code",
   "execution_count": null,
   "id": "bf8682ba",
   "metadata": {},
   "outputs": [],
   "source": []
  }
 ],
 "metadata": {
  "kernelspec": {
   "display_name": "Python 3 (ipykernel)",
   "language": "python",
   "name": "python3"
  },
  "language_info": {
   "codemirror_mode": {
    "name": "ipython",
    "version": 3
   },
   "file_extension": ".py",
   "mimetype": "text/x-python",
   "name": "python",
   "nbconvert_exporter": "python",
   "pygments_lexer": "ipython3",
   "version": "3.10.1"
  }
 },
 "nbformat": 4,
 "nbformat_minor": 5
}
