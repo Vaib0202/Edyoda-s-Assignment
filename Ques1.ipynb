{
 "cells": [
  {
   "cell_type": "markdown",
   "id": "022a0a42",
   "metadata": {},
   "source": [
    "#### Note : The Fibonacci Sequence is the series of numbers :\n",
    "\n",
    "> 0, 1, 1, 2, 3, 5, 8, 13, 21, ....\n",
    "\n",
    "> Every next number is found by adding up the two numbers before it.\n",
    "\n",
    "> `Expected Output : 1 1 2 3 5 8 13 21 34 or 0 1 1 2 3 5 8 13 21 34`\n",
    "##### Using:\n",
    "    - For loop or while loop\n",
    "    - Must take input from the user\n",
    "    - Must print Fibonacci series"
   ]
  },
  {
   "cell_type": "code",
   "execution_count": 1,
   "id": "539b9c4a",
   "metadata": {},
   "outputs": [
    {
     "name": "stdout",
     "output_type": "stream",
     "text": [
      "Enter the number: 9\n",
      "0\n",
      "1\n",
      "1\n",
      "2\n",
      "3\n",
      "5\n",
      "8\n",
      "13\n",
      "21\n",
      "34\n"
     ]
    }
   ],
   "source": [
    "n = int(input(\"Enter the number: \"))\n",
    "a = 0\n",
    "b = 1\n",
    "print(a)\n",
    "print(b)\n",
    "for i in range(1,n):\n",
    "    c = a+b\n",
    "    a = b\n",
    "    b = c\n",
    "    print(c)"
   ]
  }
 ],
 "metadata": {
  "kernelspec": {
   "display_name": "Python 3 (ipykernel)",
   "language": "python",
   "name": "python3"
  },
  "language_info": {
   "codemirror_mode": {
    "name": "ipython",
    "version": 3
   },
   "file_extension": ".py",
   "mimetype": "text/x-python",
   "name": "python",
   "nbconvert_exporter": "python",
   "pygments_lexer": "ipython3",
   "version": "3.10.1"
  }
 },
 "nbformat": 4,
 "nbformat_minor": 5
}
